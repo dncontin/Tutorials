{
  "nbformat": 4,
  "nbformat_minor": 0,
  "metadata": {
    "colab": {
      "name": "NLP intro.ipynb",
      "provenance": [],
      "toc_visible": true,
      "include_colab_link": true
    },
    "kernelspec": {
      "name": "python3",
      "display_name": "Python 3"
    }
  },
  "cells": [
    {
      "cell_type": "markdown",
      "metadata": {
        "id": "view-in-github",
        "colab_type": "text"
      },
      "source": [
        "<a href=\"https://colab.research.google.com/github/dncontin/Tutorials/blob/master/NLP_intro.ipynb\" target=\"_parent\"><img src=\"https://colab.research.google.com/assets/colab-badge.svg\" alt=\"Open In Colab\"/></a>"
      ]
    },
    {
      "cell_type": "markdown",
      "metadata": {
        "id": "6ofm4AZCnXou"
      },
      "source": [
        "# Introduccion a NLP"
      ]
    },
    {
      "cell_type": "markdown",
      "metadata": {
        "id": "Yoi5Np4Km9Nd"
      },
      "source": [
        "Spacy es una libreria python de código libre que se utiliza para el procesamiento del lenguaje."
      ]
    },
    {
      "cell_type": "code",
      "metadata": {
        "id": "QCQpSnugVuE8"
      },
      "source": [
        "!pip3 install -U spacy\n",
        "!python3 -m spacy download es_core_news_md"
      ],
      "execution_count": null,
      "outputs": []
    },
    {
      "cell_type": "code",
      "metadata": {
        "id": "rYm_dI-sV5zx"
      },
      "source": [
        "import spacy\n",
        "nlp = spacy.load('es_core_news_md')"
      ],
      "execution_count": null,
      "outputs": []
    },
    {
      "cell_type": "markdown",
      "metadata": {
        "id": "RV3LLGWkUODd"
      },
      "source": [
        "## Pre-procesamiento de texto"
      ]
    },
    {
      "cell_type": "markdown",
      "metadata": {
        "id": "LkIDWngg7sjC"
      },
      "source": [
        "\n",
        "Tokenización: dividir el texto en palabras, signos de puntuación, números, etc . Los tokens que son cada una de las partes individuales de una oración que tienen algun valor semántico. "
      ]
    },
    {
      "cell_type": "code",
      "metadata": {
        "id": "wByCY94KKBaZ"
      },
      "source": [
        "texto='Juan jugaba alegremente en el parque. Su hermana mayor cantaba canciones alegres con su madre.'"
      ],
      "execution_count": null,
      "outputs": []
    },
    {
      "cell_type": "code",
      "metadata": {
        "id": "aVA_gZf1KSjq"
      },
      "source": [
        "doc=nlp(texto)"
      ],
      "execution_count": null,
      "outputs": []
    },
    {
      "cell_type": "code",
      "metadata": {
        "id": "xzsFoufaKZAO",
        "outputId": "974fa730-cf88-41c6-e896-a5ba1a025ce4",
        "colab": {
          "base_uri": "https://localhost:8080/",
          "height": 302
        }
      },
      "source": [
        "for token in doc:\n",
        "  print(token, \"     \", token.pos_)"
      ],
      "execution_count": null,
      "outputs": [
        {
          "output_type": "stream",
          "text": [
            "Juan       PROPN\n",
            "jugaba       AUX\n",
            "alegremente       ADV\n",
            "en       ADP\n",
            "el       DET\n",
            "parque       NOUN\n",
            ".       PUNCT\n",
            "Su       DET\n",
            "hermana       NOUN\n",
            "mayor       ADJ\n",
            "cantaba       AUX\n",
            "canciones       NOUN\n",
            "alegres       ADJ\n",
            "con       ADP\n",
            "su       DET\n",
            "madre       NOUN\n",
            ".       PUNCT\n"
          ],
          "name": "stdout"
        }
      ]
    },
    {
      "cell_type": "markdown",
      "metadata": {
        "id": "8au9vR_YfXBg"
      },
      "source": [
        "Stopword: Son palabras de uso frecuente y que podemos programar para ignorar ya que no aportan demasiado al significado del texto. Esto incluye:  artículos, pronombres, preposiciones"
      ]
    },
    {
      "cell_type": "code",
      "metadata": {
        "id": "m7XbYSXeLpq3",
        "outputId": "694772c6-372d-401d-b3e8-e22e9748b785",
        "colab": {
          "base_uri": "https://localhost:8080/",
          "height": 302
        }
      },
      "source": [
        "for token in doc:\n",
        "  print(token, \"   \", token.is_stop)"
      ],
      "execution_count": null,
      "outputs": [
        {
          "output_type": "stream",
          "text": [
            "Juan     False\n",
            "jugaba     False\n",
            "alegremente     False\n",
            "en     True\n",
            "el     True\n",
            "parque     False\n",
            ".     False\n",
            "Su     True\n",
            "hermana     False\n",
            "mayor     True\n",
            "cantaba     False\n",
            "canciones     False\n",
            "alegres     False\n",
            "con     True\n",
            "su     True\n",
            "madre     False\n",
            ".     False\n"
          ],
          "name": "stdout"
        }
      ]
    },
    {
      "cell_type": "code",
      "metadata": {
        "id": "KUvI2qIgG8j7"
      },
      "source": [
        "doc_filtrado=[token for token in doc if not token.is_stop | token.is_punct ]\n"
      ],
      "execution_count": null,
      "outputs": []
    },
    {
      "cell_type": "code",
      "metadata": {
        "id": "dDecJwOavh8Q"
      },
      "source": [
        "doc_filtrado"
      ],
      "execution_count": null,
      "outputs": []
    },
    {
      "cell_type": "markdown",
      "metadata": {
        "id": "sOUo8bq1B0wb"
      },
      "source": [
        "Lematización: transforma cada palabra en su forma canónica o lema. Por ejemplo: caminaba, caminabamos y caminaré son derivadas de caminar."
      ]
    },
    {
      "cell_type": "code",
      "metadata": {
        "id": "-ybIKt0eNTe4"
      },
      "source": [
        "for token in doc_filtrado:\n",
        "  print(token, \"   \", token.lemma_)"
      ],
      "execution_count": null,
      "outputs": []
    },
    {
      "cell_type": "code",
      "metadata": {
        "id": "e0b3kx0MzZsX"
      },
      "source": [
        "doc_filtrado=[token.lemma_ for token in doc_filtrado ]\n",
        "doc_filtrado"
      ],
      "execution_count": null,
      "outputs": []
    },
    {
      "cell_type": "markdown",
      "metadata": {
        "id": "FPNG0K9fByY2"
      },
      "source": [
        "Stemming: Obtiene la raiz de cada palabra. La raíz es la parte de la palabra que no cambia y de esta forma podemos encontrar palabras que están relacionadas por su significado"
      ]
    },
    {
      "cell_type": "code",
      "metadata": {
        "id": "NNNPMR7RyDL-"
      },
      "source": [
        "import nltk\n",
        "from nltk import SnowballStemmer\n",
        "stemmer=SnowballStemmer('spanish')\n"
      ],
      "execution_count": null,
      "outputs": []
    },
    {
      "cell_type": "code",
      "metadata": {
        "id": "TZ1Sx0JAN10E"
      },
      "source": [
        "print(stemmer.stem('vendedor'))\n",
        "print(stemmer.stem('venta'))\n",
        "print(stemmer.stem('vender'))\n",
        "print(stemmer.stem('vendió'))\n",
        "print(stemmer.stem('vendido'))"
      ],
      "execution_count": null,
      "outputs": []
    },
    {
      "cell_type": "code",
      "metadata": {
        "id": "fS07GlLSe3W6"
      },
      "source": [
        "[stemmer.stem(tok) for tok in doc_filtrado]"
      ],
      "execution_count": null,
      "outputs": []
    },
    {
      "cell_type": "markdown",
      "metadata": {
        "id": "NnmG1dHhpJMh"
      },
      "source": [
        "## Airbnb reseñas"
      ]
    },
    {
      "cell_type": "code",
      "metadata": {
        "id": "suk4cfoJyIk0"
      },
      "source": [
        "import pandas as pd\n",
        "\n",
        "import matplotlib.pyplot as plt"
      ],
      "execution_count": null,
      "outputs": []
    },
    {
      "cell_type": "code",
      "metadata": {
        "id": "82F6wlp3pMWl"
      },
      "source": [
        "#https://public.opendatasoft.com/explore/dataset/airbnb-reviews/table/\n",
        "data=pd.read_excel('airbnb_es.xls')"
      ],
      "execution_count": null,
      "outputs": []
    },
    {
      "cell_type": "code",
      "metadata": {
        "id": "e0WfYnqApWcs"
      },
      "source": [
        "data.head()"
      ],
      "execution_count": null,
      "outputs": []
    },
    {
      "cell_type": "code",
      "metadata": {
        "id": "qPaW0rYMqqHP"
      },
      "source": [
        "len(data)"
      ],
      "execution_count": null,
      "outputs": []
    },
    {
      "cell_type": "code",
      "metadata": {
        "id": "ys41M04TPpDE"
      },
      "source": [
        "from wordcloud import WordCloud \n",
        "\n",
        "\n",
        "plt.figure(figsize = (14,14)) \n",
        "wc = WordCloud(max_words = 50, width = 1600 , height = 800 ).generate(\" \".join(data['Comentario']))\n",
        "plt.imshow(wc)"
      ],
      "execution_count": null,
      "outputs": []
    },
    {
      "cell_type": "code",
      "metadata": {
        "id": "JVm17XvM6Gcl"
      },
      "source": [
        "def spacy_lematizar(lista_opinion):\n",
        "    opiniones_filtradas = []\n",
        "    for item in lista_opinion:\n",
        "        doc = nlp(item)\n",
        "        lemmas = [tok.lemma_.lower() for tok in doc if not tok.is_stop | tok.is_punct ]\n",
        "        review = ' '.join(lemmas)\n",
        "        opiniones_filtradas.append(review)\n",
        "    return opiniones_filtradas"
      ],
      "execution_count": null,
      "outputs": []
    },
    {
      "cell_type": "code",
      "metadata": {
        "id": "Os4BdlzVQCNZ"
      },
      "source": [
        "com_neg=data[data['Opinion']=='Negativa']\n",
        "com_pos=data[data['Opinion']=='Positiva']"
      ],
      "execution_count": null,
      "outputs": []
    },
    {
      "cell_type": "code",
      "metadata": {
        "id": "haU1MIlcQj5f"
      },
      "source": [
        "com_procesado_neg=spacy_lematizar(com_neg['Comentario'])\n",
        "\n",
        "com_procesado_pos=spacy_lematizar(com_pos['Comentario'])\n"
      ],
      "execution_count": null,
      "outputs": []
    },
    {
      "cell_type": "code",
      "metadata": {
        "id": "MNuLd8X8R-7N"
      },
      "source": [
        "plt.figure(figsize = (14,14)) \n",
        "wc = WordCloud( max_words = 50 , width = 1600 , height = 800).generate(\" \".join(com_procesado_pos))\n",
        "plt.imshow(wc)"
      ],
      "execution_count": null,
      "outputs": []
    },
    {
      "cell_type": "code",
      "metadata": {
        "id": "pNhDQ9G4QvgY"
      },
      "source": [
        "plt.figure(figsize = (14,14)) \n",
        "wc = WordCloud(  max_words = 50 , width = 1600 , height = 800).generate(\" \".join(com_procesado_neg))\n",
        "plt.imshow(wc)"
      ],
      "execution_count": null,
      "outputs": []
    }
  ]
}